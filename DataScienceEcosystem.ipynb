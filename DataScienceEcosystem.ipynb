{
 "cells": [
  {
   "cell_type": "markdown",
   "id": "ad0f9b3e-7438-4223-bee0-4954d89f8727",
   "metadata": {},
   "source": [
    "# Data Science Tools and Ecosystem"
   ]
  },
  {
   "cell_type": "markdown",
   "id": "a26d6205-5c5b-4b61-aec9-680f14a6d567",
   "metadata": {},
   "source": [
    "In this notebook, Data Science Tools and Ecosystem are summarized."
   ]
  },
  {
   "cell_type": "markdown",
   "id": "e7d9aed5-7a12-4680-93b2-236bacc7ea21",
   "metadata": {},
   "source": [
    "__Objectives:__\n",
    "\n",
    "* Capabilities of R and its use in Data Science\n",
    "* What is Jupyter Notebook\n",
    "* What are the libraries used in Python"
   ]
  },
  {
   "cell_type": "markdown",
   "id": "52cd578b-d6f2-4fb7-9642-4a0cdd129c17",
   "metadata": {},
   "source": [
    "Some of the popular languages that Data Scientists use are:\n",
    "\n",
    "1. Python\n",
    "2. R\n",
    "3. SQL\n",
    "4. JavaScript"
   ]
  },
  {
   "cell_type": "markdown",
   "id": "60709b6f-83c2-4a31-90ce-b3e67041c0c9",
   "metadata": {},
   "source": [
    "Some of the commonly used libraries used by Data Scientists include:\n",
    "\n",
    "1. Pandas\n",
    "2. NumPy\n",
    "3. Matplotlib\n",
    "4. Seaborn\n",
    "5. SciPy"
   ]
  },
  {
   "cell_type": "markdown",
   "id": "649a9ba3-4b53-4bd9-b6c7-5682b337f5a3",
   "metadata": {},
   "source": [
    "| Data Science Tools |\n",
    "|--------|\n",
    "|Apache Hadoop|\n",
    "|Apache Spark|\n",
    "|R Studio|"
   ]
  },
  {
   "cell_type": "markdown",
   "id": "43d3daaa-19af-4e4e-aea3-a31efa532177",
   "metadata": {},
   "source": [
    "### Below are a few examples of evaluating arithmetic expressions in Python"
   ]
  },
  {
   "cell_type": "code",
   "execution_count": 2,
   "id": "985e15e0-93c2-4eec-a578-9587880896c9",
   "metadata": {},
   "outputs": [
    {
     "data": {
      "text/plain": [
       "17"
      ]
     },
     "execution_count": 2,
     "metadata": {},
     "output_type": "execute_result"
    }
   ],
   "source": [
    "(3*4)+5"
   ]
  },
  {
   "cell_type": "markdown",
   "id": "55a3bf11-7d58-40b5-9947-838f3c036b3d",
   "metadata": {},
   "source": [
    "This will convert 200 minutes to hours by diving by 60\n"
   ]
  },
  {
   "cell_type": "code",
   "execution_count": 5,
   "id": "2f56b438-2a27-4cc8-bb9c-1098ac5e8322",
   "metadata": {},
   "outputs": [
    {
     "data": {
      "text/plain": [
       "3.3333333333333335"
      ]
     },
     "execution_count": 5,
     "metadata": {},
     "output_type": "execute_result"
    }
   ],
   "source": [
    "200/60"
   ]
  },
  {
   "cell_type": "markdown",
   "id": "3578271e-4fc3-4a74-b6e9-87870b888638",
   "metadata": {},
   "source": [
    "## Author\n",
    "YASIR"
   ]
  },
  {
   "cell_type": "code",
   "execution_count": null,
   "id": "9239749f-5734-4cda-b552-e632c2d8e443",
   "metadata": {},
   "outputs": [],
   "source": []
  }
 ],
 "metadata": {
  "kernelspec": {
   "display_name": "Python [conda env:TestingEnvironment]",
   "language": "python",
   "name": "conda-env-TestingEnvironment-py"
  },
  "language_info": {
   "codemirror_mode": {
    "name": "ipython",
    "version": 3
   },
   "file_extension": ".py",
   "mimetype": "text/x-python",
   "name": "python",
   "nbconvert_exporter": "python",
   "pygments_lexer": "ipython3",
   "version": "3.12.9"
  }
 },
 "nbformat": 4,
 "nbformat_minor": 5
}
